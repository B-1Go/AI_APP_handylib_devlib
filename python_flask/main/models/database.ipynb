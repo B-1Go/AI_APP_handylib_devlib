{
  "nbformat": 4,
  "nbformat_minor": 2,
  "metadata": {
    "colab": {
      "name": "MongodbDcoumentType.ipynb",
      "provenance": [],
      "collapsed_sections": []
    },
    "kernelspec": {
      "name": "python3",
      "display_name": "Python 3.8.6 64-bit"
    },
    "language_info": {
      "name": "python",
      "version": "3.8.6",
      "mimetype": "text/x-python",
      "codemirror_mode": {
        "name": "ipython",
        "version": 3
      },
      "pygments_lexer": "ipython3",
      "nbconvert_exporter": "python",
      "file_extension": ".py"
    },
    "interpreter": {
      "hash": "d9af2e32a5ad6e5c5f98229481d7f4ca3d60c1f6ad52fd9ba4da285d14500705"
    }
  },
  "cells": [
    {
      "cell_type": "code",
      "execution_count": 7,
      "source": [
        "from flask_mongoengine import MongoEngine\n",
        "db = MongoEngine()"
      ],
      "outputs": [],
      "metadata": {
        "id": "1ubpHG-1gQj9"
      }
    },
    {
      "cell_type": "code",
      "execution_count": 8,
      "source": [
        "class User(db.Document):\n",
        "  # objectid(고유번호) = auto_create or insert\n",
        "  name = db.StringField()\n",
        "  user_id = db.StringField()\n",
        "  email = db.EmailField()\n",
        "  password = db.StringField()\n",
        "  interest_tag = db.StringField()\n",
        "  like = db.ListField()\n",
        "  borrowed = db.ListField()"
      ],
      "outputs": [],
      "metadata": {
        "id": "DSSNKQKdgXjG"
      }
    },
    {
      "cell_type": "code",
      "execution_count": 9,
      "source": [
        "class Administrator(db.Document):\n",
        "  # objectid(고유번호) = auto_create or insert\n",
        "  name = db.StringField()\n",
        "  user_id = db.StringField()\n",
        "  password = db.StringField()"
      ],
      "outputs": [],
      "metadata": {
        "id": "zESVB9r4qnp2"
      }
    },
    {
      "cell_type": "code",
      "execution_count": 10,
      "source": [
        "class Book(db.Document):\n",
        "  # objectid(고유번호) = auto_create or insert\n",
        "  isbn = db.IntField()\n",
        "  title = db.StringField()\n",
        "  publication_date  = db.StringField() # API: 20200924 년월일까지 받아짐\n",
        "  tag = db.StringField()"
      ],
      "outputs": [],
      "metadata": {
        "id": "ATf98QMnrkJZ"
      }
    },
    {
      "cell_type": "code",
      "execution_count": 11,
      "source": [
        "class Ebook(db.Document):\n",
        "  # objectid(고유번호) = auto_create or insert\n",
        "  isbn = db.IntField()\n",
        "  title = db.StringField()\n",
        "  publication_date  = db.StringField() # API: 20200924 년월일까지 받아짐\n",
        "  contents = db.FileField() # FileField() or ImageField()\n",
        "  tag = db.StringField()"
      ],
      "outputs": [],
      "metadata": {
        "id": "gI7uYXHOuRGm"
      }
    },
    {
      "cell_type": "code",
      "execution_count": 12,
      "source": [
        "class Review(db.Document):\n",
        "  # objectid(고유번호) = auto_create or insert\n",
        "  user_id = db.StringField()\n",
        "  isbn = db.IntField()\n",
        "  score = db.FloatField() # min:0 max:5 interval: 0.1"
      ],
      "outputs": [],
      "metadata": {
        "id": "2MAI9Fcbs7eU"
      }
    },
    {
      "cell_type": "code",
      "execution_count": 13,
      "source": [
        "class Notice_board(db.Document):\n",
        "  # objectid(고유번호) = auto_create or insert\n",
        "  number = db.IntField()\n",
        "  user_id = db.StringField()\n",
        "  title = db.StringField()\n",
        "  comment_number = db.StringField()\n",
        "  content = db.StringField() # 이미지는?\n",
        "  tag = db.StringField()"
      ],
      "outputs": [],
      "metadata": {
        "id": "EExy_PY8uOw_"
      }
    },
    {
      "cell_type": "code",
      "execution_count": 14,
      "source": [
        "class Comment(db.Document):\n",
        "  # objectid(고유번호) = auto_create or insert\n",
        "  comment_number = db.IntField()\n",
        "  user_id = db.StringField()\n",
        "  contnet = db.StringField()"
      ],
      "outputs": [],
      "metadata": {
        "id": "VxYkMmCnx85E"
      }
    },
    {
      "cell_type": "code",
      "execution_count": 15,
      "source": [
        "class Unit(db.Document):\n",
        "  # objectid(고유번호) = auto_create or insert\n",
        "  name = db.StringField()\n",
        "  books_list = db.ListField()"
      ],
      "outputs": [],
      "metadata": {
        "id": "9S8WHAsqyIVA"
      }
    },
    {
      "cell_type": "code",
      "execution_count": 16,
      "source": [
        "class Searchlog(db.Document):\n",
        "  # objectid(고유번호) = auto_create or insert\n",
        "  user_id = db.StringField()\n",
        "  log = db.ListField()"
      ],
      "outputs": [],
      "metadata": {
        "id": "iJDq0TMfzgQl"
      }
    }
  ]
}